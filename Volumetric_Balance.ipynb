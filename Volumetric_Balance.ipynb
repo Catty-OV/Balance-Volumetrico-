{
  "nbformat": 4,
  "nbformat_minor": 0,
  "metadata": {
    "colab": {
      "provenance": [],
      "collapsed_sections": []
    },
    "kernelspec": {
      "name": "python3",
      "display_name": "Python 3"
    },
    "language_info": {
      "name": "python"
    }
  },
  "cells": [
    {
      "cell_type": "code",
      "source": [
        "#Calcule el balance volumétrico de un wash tank cuyo objetivo es deshidratar petróleo y acondicionar agua, \n",
        "#de un campo petrolero que produce 320000 BFPD con BSW de 75%, el petróleo tiene una gravedad API de 25°, \n",
        "#indique las especificaciones del petróleo y agua de acuerdo a su criterio de agua y petróleo bajo especificaciones.\n",
        "\n",
        "#Eficiencia = 100%\n",
        "#Diámetro = 120 ft\n",
        "#Altura = 60 ft\n",
        "#Nivel de agua = 12 ft\n",
        "#Nivel operativo = 95%\n"
      ],
      "metadata": {
        "id": "It_QJvE8s7VX"
      },
      "execution_count": null,
      "outputs": []
    },
    {
      "cell_type": "code",
      "source": [
        "qt = 320000 # Caudal total de líquido\n",
        "BSW = 0.75 # Corte de agua\n",
        "e = 0.17 # Porcentaje de emulsión\n"
      ],
      "metadata": {
        "id": "Pwx28zza9E8h"
      },
      "execution_count": null,
      "outputs": []
    },
    {
      "cell_type": "code",
      "source": [
        "# Calculamos el caudal de petróleo y agua\n",
        "qw = int(qt * BSW)\n",
        "qo = int(qt - qw)\n",
        "\n",
        "print('Caudal de agua:', qw, 'STBD')\n",
        "print('Caudal de petróleo:', qo, 'STBD')\n"
      ],
      "metadata": {
        "colab": {
          "base_uri": "https://localhost:8080/"
        },
        "id": "BNhzGbrBjUAR",
        "outputId": "0469757a-9b95-4de8-d23e-2c33bc85955e"
      },
      "execution_count": null,
      "outputs": [
        {
          "output_type": "stream",
          "name": "stdout",
          "text": [
            "Caudal de agua: 240000 STBD\n",
            "Caudal de petróleo: 80000 STBD\n"
          ]
        }
      ]
    },
    {
      "cell_type": "code",
      "source": [
        "# Calculamos la cantidad de emulsión\n",
        "AE = e * qo / (1 - e)\n",
        "AE = round(AE, 2)\n",
        "\n",
        "em = qo + AE\n",
        "em = round(em, 2)\n",
        "\n",
        "print('Cantidad de agua emulsionada:', AE, 'STBD')\n",
        "print('Emulsión total:', em, 'STBD')\n"
      ],
      "metadata": {
        "colab": {
          "base_uri": "https://localhost:8080/"
        },
        "id": "9W0osUn-jUEA",
        "outputId": "d4f3e8e4-c7c8-434a-8556-9ac761923001"
      },
      "execution_count": null,
      "outputs": [
        {
          "output_type": "stream",
          "name": "stdout",
          "text": [
            "Cantidad de agua emulsionada: 16385.54 STBD\n",
            "Emulsión total: 96385.54 STBD\n"
          ]
        }
      ]
    },
    {
      "cell_type": "code",
      "source": [
        "# Calculamos la cantidad de agua libre\n",
        "AL = qw - AE\n",
        "AL = round(AL, 2)\n",
        "\n",
        "print('Cantidad de agua libre:', AL, 'STBD')\n"
      ],
      "metadata": {
        "colab": {
          "base_uri": "https://localhost:8080/"
        },
        "id": "ADo3ofyXjUGS",
        "outputId": "c31f5889-e67d-4e17-92c9-8081f101652c"
      },
      "execution_count": null,
      "outputs": [
        {
          "output_type": "stream",
          "name": "stdout",
          "text": [
            "Cantidad de agua libre: 223614.46 STBD\n"
          ]
        }
      ]
    },
    {
      "cell_type": "code",
      "source": [
        "# Calculamos la cantidad de agua residual\n",
        "AR = 1000 * AL / 999000\n",
        "AR = round(AR, 2)\n",
        "\n",
        "print('Cantidad de agua residual:', AR, 'STBD')\n"
      ],
      "metadata": {
        "colab": {
          "base_uri": "https://localhost:8080/"
        },
        "id": "2JowX63wkwAE",
        "outputId": "2ff6784a-04da-44e8-9995-ead713124bc2"
      },
      "execution_count": null,
      "outputs": [
        {
          "output_type": "stream",
          "name": "stdout",
          "text": [
            "Cantidad de agua residual: 223.84 STBD\n"
          ]
        }
      ]
    },
    {
      "cell_type": "code",
      "source": [
        "# Calculamos la cantidad de petróleo a la entrada del tanque lavador\n",
        "oil = qo - AR\n",
        "oil = round(oil, 2)\n",
        "\n",
        "print('Petróleo a la entrada del tanque:', oil, 'STBD')\n"
      ],
      "metadata": {
        "colab": {
          "base_uri": "https://localhost:8080/"
        },
        "id": "dKClnC-CjUI6",
        "outputId": "3588ac8f-0d4f-4560-bc5c-98d454798282"
      },
      "execution_count": null,
      "outputs": [
        {
          "output_type": "stream",
          "name": "stdout",
          "text": [
            "Petróleo a la entrada del tanque: 79776.16 STBD\n"
          ]
        }
      ]
    },
    {
      "cell_type": "code",
      "source": [
        "# Calculo de la cantidad de agua emulsionada\n",
        "AE = 0.17 * oil / 0.83\n",
        "AE = round(AE, 2)\n",
        "\n",
        "print('Cantidad de agua emulsionada', AE, 'STBD')\n"
      ],
      "metadata": {
        "colab": {
          "base_uri": "https://localhost:8080/"
        },
        "id": "5T_sFQEQjULT",
        "outputId": "189f3bb4-fd2f-4109-db57-25db3d23eea5"
      },
      "execution_count": null,
      "outputs": [
        {
          "output_type": "stream",
          "name": "stdout",
          "text": [
            "Cantidad de agua emulsionada 16339.7 STBD\n"
          ]
        }
      ]
    },
    {
      "cell_type": "code",
      "source": [
        "# Cantidad de emulsión a la entrada del tanque lavador\n",
        "em = oil + AE \n",
        "em = round(em, 2)\n",
        "\n",
        "print('Cantidad de emulsión:', em, 'STBD')\n"
      ],
      "metadata": {
        "colab": {
          "base_uri": "https://localhost:8080/"
        },
        "id": "oNmpNmbSlU2U",
        "outputId": "ef0b83b6-3b3d-476b-e3e8-17e61256beaf"
      },
      "execution_count": null,
      "outputs": [
        {
          "output_type": "stream",
          "name": "stdout",
          "text": [
            "Cantidad de emulsión: 96115.86 STBD\n"
          ]
        }
      ]
    },
    {
      "cell_type": "code",
      "source": [
        "# Calculamos la cantidad de agua emulsionada\n",
        "AE = 0.05 * oil / (100 - 0.05)\n",
        "AE = round(AE, 2)\n",
        "\n",
        "print('Cantidad de agua emulsionada', AE, 'STBD')\n"
      ],
      "metadata": {
        "colab": {
          "base_uri": "https://localhost:8080/"
        },
        "id": "byDh3n8QlU4s",
        "outputId": "a448abc3-95df-4b74-87b0-ab6b633288d0"
      },
      "execution_count": null,
      "outputs": [
        {
          "output_type": "stream",
          "name": "stdout",
          "text": [
            "Cantidad de agua emulsionada 39.91 STBD\n"
          ]
        }
      ]
    },
    {
      "cell_type": "code",
      "source": [
        "# Calculamos la cantidad de agua emulsionada\n",
        "AE = 0.01 * oil / (100 - 0.01)\n",
        "AE = round(AE, 2)\n",
        "\n",
        "print('Cantidad de agua emulsionada', AE, 'STBD')\n",
        "\n"
      ],
      "metadata": {
        "colab": {
          "base_uri": "https://localhost:8080/"
        },
        "id": "sVMvhVxjlU64",
        "outputId": "25ce1494-3f6f-462c-b0e7-b00f30616bad"
      },
      "execution_count": null,
      "outputs": [
        {
          "output_type": "stream",
          "name": "stdout",
          "text": [
            "Cantidad de agua emulsionada 7.98 STBD\n"
          ]
        }
      ]
    }
  ]
}